{
 "cells": [
  {
   "cell_type": "markdown",
   "metadata": {},
   "source": [
    "# Import Required Libraries\n",
    "Import necessary libraries such as pandas, numpy, matplotlib, and sklearn."
   ]
  },
  {
   "cell_type": "code",
   "execution_count": null,
   "metadata": {},
   "outputs": [],
   "source": [
    "# Import Required Libraries\n",
    "import pandas as pd\n",
    "import numpy as np\n",
    "import matplotlib.pyplot as plt\n",
    "from scipy.sparse import csr_matrix\n",
    "from sklearn.neighbors import NearestNeighbors"
   ]
  },
  {
   "cell_type": "markdown",
   "metadata": {},
   "source": [
    "# Load Dataset\n",
    "Load the ratings and movies datasets using pandas."
   ]
  },
  {
   "cell_type": "code",
   "execution_count": null,
   "metadata": {},
   "outputs": [],
   "source": [
    "# Load Dataset\n",
    "ratings = pd.read_csv('path_to_ratings.csv')\n",
    "movies = pd.read_csv('path_to_movies.csv')\n",
    "\n",
    "# Display the first few rows of the datasets\n",
    "display(ratings.head(), movies.head())"
   ]
  },
  {
   "cell_type": "markdown",
   "metadata": {},
   "source": [
    "# Create User-Movie Matrix\n",
    "Create a sparse user-movie matrix using the ratings data."
   ]
  },
  {
   "cell_type": "code",
   "execution_count": null,
   "metadata": {},
   "outputs": [],
   "source": [
    "# Create a sparse user-movie matrix\n",
    "user_movie_matrix_sparse = csr_matrix((ratings['rating'], (ratings['userId'], ratings['movieId'])))\n",
    "\n",
    "# Display the shape of the user-movie matrix\n",
    "print(user_movie_matrix_sparse.shape)"
   ]
  },
  {
   "cell_type": "markdown",
   "metadata": {},
   "source": [
    "# Build Recommendation Model\n",
    "Build a recommendation model using NearestNeighbors from sklearn."
   ]
  },
  {
   "cell_type": "code",
   "execution_count": null,
   "metadata": {},
   "outputs": [],
   "source": [
    "# Build Recommendation Model\n",
    "model_knn = NearestNeighbors(metric='cosine', algorithm='brute')\n",
    "model_knn.fit(user_movie_matrix_sparse)"
   ]
  },
  {
   "cell_type": "markdown",
   "metadata": {},
   "source": [
    "# Define Movie Recommendation Function\n",
    "Define a function to generate movie recommendations for a given user."
   ]
  },
  {
   "cell_type": "code",
   "execution_count": null,
   "metadata": {},
   "outputs": [],
   "source": [
    "# Function to recommend movies\n",
    "def recommend_movies(user_id, model_knn, user_movie_matrix_sparse, movies, top_n):\n",
    "    distances, indices = model_knn.kneighbors(user_movie_matrix_sparse[user_id], n_neighbors=top_n + 1)\n",
    "    similar_users = indices.flatten()[1:]  # Exclude the user itself\n",
    "    \n",
    "    movie_scores = np.zeros(user_movie_matrix_sparse.shape[1])\n",
    "    for similar_user in similar_users:\n",
    "        movie_scores += user_movie_matrix_sparse[similar_user].toarray().flatten()\n",
    "    \n",
    "    recommended_movies = np.argsort(-movie_scores)[:top_n]\n",
    "    recommended_movies = pd.DataFrame(recommended_movies, columns=['movieId']).merge(movies, on='movieId')\n",
    "    return recommended_movies[['movieId', 'title']].head(top_n)\n",
    "\n",
    "# Example usage\n",
    "target_user = 1  # Example user ID\n",
    "top_n = 10  # Number of recommendations\n",
    "recommendations = recommend_movies(target_user, model_knn, user_movie_matrix_sparse, movies, top_n)\n",
    "display(recommendations)"
   ]
  },
  {
   "cell_type": "markdown",
   "metadata": {},
   "source": [
    "# Evaluation Metrics\n",
    "Define functions to calculate recall@k and precision@k."
   ]
  },
  {
   "cell_type": "code",
   "execution_count": null,
   "metadata": {},
   "outputs": [],
   "source": [
    "# Define Evaluation Metrics\n",
    "def recall_at_k(recommended_movies, relevant_movies, k):\n",
    "    recommended_top_k = recommended_movies[:k]\n",
    "    relevant_and_recommended = set(recommended_top_k) & set(relevant_movies)\n",
    "    return len(relevant_and_recommended) / len(relevant_movies) if len(relevant_movies) > 0 else 0\n",
    "\n",
    "def precision_at_k(recommended_movies, relevant_movies, k):\n",
    "    recommended_top_k = recommended_movies[:k]\n",
    "    relevant_and_recommended = set(recommended_top_k) & set(relevant_movies)\n",
    "    return len(relevant_and_recommended) / k if k > 0 else 0"
   ]
  },
  {
   "cell_type": "markdown",
   "metadata": {},
   "source": [
    "# Calculate Metrics for Recommendations\n",
    "Calculate recall and precision for the recommendations generated for a sample of users."
   ]
  },
  {
   "cell_type": "code",
   "execution_count": null,
   "metadata": {},
   "outputs": [],
   "source": [
    "# Example metrics calculation\n",
    "user_ids = ratings['userId'].unique()[:100]  # Sample of 100 users\n",
    "relevant_movies = [1, 2, 3]  # Example relevant movies\n",
    "metrics = []\n",
    "\n",
    "for user_id in user_ids:\n",
    "    recommended_movies = recommend_movies(user_id, model_knn, user_movie_matrix_sparse, movies, top_n)['movieId'].tolist()\n",
    "    recall = recall_at_k(recommended_movies, relevant_movies, top_n)\n",
    "    precision = precision_at_k(recommended_movies, relevant_movies, top_n)\n",
    "    metrics.append((recall, precision))\n",
    "\n",
    "display(metrics)"
   ]
  },
  {
   "cell_type": "markdown",
   "metadata": {},
   "source": [
    "# Plot Metrics\n",
    "Plot the recall@k and precision@k metrics using matplotlib."
   ]
  },
  {
   "cell_type": "code",
   "execution_count": null,
   "metadata": {},
   "outputs": [],
   "source": [
    "# Plot Metrics\n",
    "def plot_metrics(metrics):\n",
    "    recalls, precisions = zip(*metrics)\n",
    "    ks = range(1, len(metrics) + 1)\n",
    "    \n",
    "    plt.figure(figsize=(10, 6))\n",
    "    plt.plot(ks, recalls, label='Recall@K', marker='o')\n",
    "    plt.plot(ks, precisions, label='Precision@K', marker='x')\n",
    "    plt.title('Recall@K and Precision@K')\n",
    "    plt.xlabel('K')\n",
    "    plt.ylabel('Score')\n",
    "    plt.legend()\n",
    "    plt.grid(True)\n",
    "    plt.show()\n",
    "\n",
    "plot_metrics(metrics)"
   ]
  }
 ]
}


