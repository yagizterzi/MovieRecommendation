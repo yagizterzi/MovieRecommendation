{
 "cells": [
  {
   "cell_type": "markdown",
   "metadata": {},
   "source": [
    "# Import Required Libraries\n",
    "Import necessary libraries such as pandas, numpy, matplotlib, and sklearn."
   ]
  },
  {
   "cell_type": "code",
   "execution_count": null,
   "metadata": {},
   "outputs": [],
   "source": [
    "# Import Required Libraries\n",
    "import pandas as pd\n",
    "import numpy as np\n",
    "import matplotlib.pyplot as plt\n",
    "from scipy.sparse import csr_matrix\n",
    "from sklearn.neighbors import NearestNeighbors"
   ]
  },
  {
   "cell_type": "markdown",
   "metadata": {},
   "source": [
    "# Load Dataset\n",
    "Load the ratings and movies datasets using pandas."
   ]
  },
  {
   "cell_type": "code",
   "execution_count": null,
   "metadata": {},
   "outputs": [],
   "source": [
    "# Load Dataset\n",
    "ratings = pd.read_csv(r\"C:\\Users\\yagiz\\Downloads\\ml-latest\\ml-latest\\ratings.csv\")\n",
    "movies = pd.read_csv(r\"C:\\Users\\yagiz\\Downloads\\ml-latest\\ml-latest\\movies.csv\")\n",
    "\n",
    "# Display the first few rows of the datasets\n",
    "ratings.head(), movies.head()"
   ]
  },
  {
   "cell_type": "markdown",
   "metadata": {},
   "source": [
    "# Create User-Movie Matrix\n",
    "Create a sparse user-movie matrix using the ratings data."
   ]
  },
  {
   "cell_type": "code",
   "execution_count": null,
   "metadata": {},
   "outputs": [],
   "source": [
    "# Create a sparse user-movie matrix\n",
    "user_movie_matrix_sparse = csr_matrix((ratings['rating'], (ratings['userId'], ratings['movieId'])))\n",
    "\n",
    "# Display the shape of the user-movie matrix\n",
    "user_movie_matrix_sparse.shape"
   ]
  },
  {
   "cell_type": "markdown",
   "metadata": {},
   "source": [
    "# Build Recommendation Model\n",
    "Build a recommendation model using NearestNeighbors from sklearn."
   ]
  },
  {
   "cell_type": "code",
   "execution_count": null,
   "metadata": {},
   "outputs": [],
   "source": [
    "# Build Recommendation Model\n",
    "\n",
    "# Calculate cosine similarity between users using NearestNeighbors for efficiency\n",
    "model_knn = NearestNeighbors(metric='cosine', algorithm='brute')\n",
    "model_knn.fit(user_movie_matrix_sparse)\n",
    "\n",
    "# Function to recommend movies\n",
    "def recommend_movies(user_id, model_knn, user_movie_matrix_sparse, movies, top_n):\n",
    "    print(f\"Generating recommendations for user {user_id}...\")\n",
    "    # Get the ratings of the target user\n",
    "    user_ratings = user_movie_matrix_sparse[user_id].toarray().flatten()\n",
    "\n",
    "    # Find movies that the target user has not seen (rating is 0)\n",
    "    unseen_movies = (user_ratings == 0).nonzero()[0]\n",
    "\n",
    "    # Get similar users and their similarity scores\n",
    "    distances, indices = model_knn.kneighbors(user_movie_matrix_sparse[user_id], n_neighbors=top_n)\n",
    "    similar_users = pd.Series(distances.flatten(), index=indices.flatten())\n",
    "    similar_users = similar_users[similar_users > 0]\n",
    "\n",
    "    # Calculate the weighted sum of ratings from similar users\n",
    "    weighted_sum = user_movie_matrix_sparse[similar_users.index].T.dot(1 - similar_users.values)\n",
    "\n",
    "    # Calculate the sum of similarity scores\n",
    "    similarity_sum = (1 - similar_users.values).sum()\n",
    "\n",
    "    # Calculate recommendations by dividing weighted sum by similarity sum\n",
    "    with np.errstate(divide='ignore', invalid='ignore'):\n",
    "        recommendations = np.true_divide(weighted_sum, similarity_sum)\n",
    "        recommendations[~np.isfinite(recommendations)] = 0  # set infinities and NaNs to 0\n",
    "\n",
    "    # Filter recommendations to only include unseen movies and sort them\n",
    "    recommendations = pd.Series(recommendations[unseen_movies], index=unseen_movies).sort_values(ascending=False)\n",
    "\n",
    "    # Merge recommendations with movie data to get the release year\n",
    "    recommendations = recommendations.reset_index().rename(columns={'index': 'movieId'}).merge(movies[['movieId', 'title']], on='movieId')\n",
    "\n",
    "    return recommendations.head(top_n)\n",
    "\n",
    "# Extract year from the title and handle NaN values\n",
    "movies['year'] = movies['title'].str.extract(r'\\((\\d{4})\\)')\n",
    "movies['year'] = movies['year'].fillna(0).astype(int)\n",
    "\n",
    "# Example usage\n",
    "target_user = 1  # Example user ID\n",
    "top_n = 10  # Number of recommendations\n",
    "recommended_movies = recommend_movies(target_user, model_knn, user_movie_matrix_sparse, movies, top_n)\n",
    "recommended_movies[['movieId', 'title', 'year']]"
   ]
  },
  {
   "cell_type": "markdown",
   "metadata": {},
   "source": [
    "# Generate Movie Recommendations\n",
    "Define a function to generate movie recommendations for a given user."
   ]
  },
  {
   "cell_type": "code",
   "execution_count": null,
   "metadata": {},
   "outputs": [],
   "source": [
    "# Generate Movie Recommendations\n",
    "\n",
    "# Function to recommend movies\n",
    "def recommend_movies(user_id, model_knn, user_movie_matrix_sparse, movies, top_n):\n",
    "    print(f\"Generating recommendations for user {user_id}...\")\n",
    "    # Get the ratings of the target user\n",
    "    user_ratings = user_movie_matrix_sparse[user_id].toarray().flatten()\n",
    "\n",
    "    # Find movies that the target user has not seen (rating is 0)\n",
    "    unseen_movies = (user_ratings == 0).nonzero()[0]\n",
    "\n",
    "    # Get similar users and their similarity scores\n",
    "    distances, indices = model_knn.kneighbors(user_movie_matrix_sparse[user_id], n_neighbors=top_n)\n",
    "    similar_users = pd.Series(distances.flatten(), index=indices.flatten())\n",
    "    similar_users = similar_users[similar_users > 0]\n",
    "\n",
    "    # Calculate the weighted sum of ratings from similar users\n",
    "    weighted_sum = user_movie_matrix_sparse[similar_users.index].T.dot(1 - similar_users.values)\n",
    "\n",
    "    # Calculate the sum of similarity scores\n",
    "    similarity_sum = (1 - similar_users.values).sum()\n",
    "\n",
    "    # Calculate recommendations by dividing weighted sum by similarity sum\n",
    "    with np.errstate(divide='ignore', invalid='ignore'):\n",
    "        recommendations = np.true_divide(weighted_sum, similarity_sum)\n",
    "        recommendations[~np.isfinite(recommendations)] = 0  # set infinities and NaNs to 0\n",
    "\n",
    "    # Filter recommendations to only include unseen movies and sort them\n",
    "    recommendations = pd.Series(recommendations[unseen_movies], index=unseen_movies).sort_values(ascending=False)\n",
    "\n",
    "    # Merge recommendations with movie data to get the release year\n",
    "    recommendations = recommendations.reset_index().rename(columns={'index': 'movieId'}).merge(movies[['movieId', 'title']], on='movieId')\n",
    "\n",
    "    return recommendations.head(top_n)\n",
    "\n",
    "# Example usage\n",
    "target_user = 1  # Example user ID\n",
    "top_n = 10  # Number of recommendations\n",
    "recommended_movies = recommend_movies(target_user, model_knn, user_movie_matrix_sparse, movies, top_n)\n",
    "recommended_movies[['movieId', 'title', 'year']]"
   ]
  },
  {
   "cell_type": "markdown",
   "metadata": {},
   "source": [
    "# Define Evaluation Metrics\n",
    "Define functions to calculate recall@k and precision@k."
   ]
  },
  {
   "cell_type": "code",
   "execution_count": null,
   "metadata": {},
   "outputs": [],
   "source": [
    "# Define Evaluation Metrics\n",
    "\n",
    "def recall_at_k(recommended_movies, relevant_movies, k):\n",
    "    recommended_top_k = recommended_movies[:k]\n",
    "    relevant_and_recommended = set(recommended_top_k) & set(relevant_movies)\n",
    "    return len(relevant_and_recommended) / len(relevant_movies) if len(relevant_movies) > 0 else 0\n",
    "\n",
    "def precision_at_k(recommended_movies, relevant_movies, k):\n",
    "    recommended_top_k = recommended_movies[:k]\n",
    "    relevant_and_recommended = set(recommended_top_k) & set(relevant_movies)\n",
    "    return len(relevant_and_recommended) / k\n",
    "\n",
    "def calculate_metrics_at_k_100_users(user_ids, user_movie_matrix_sparse, recommendations, k_values):\n",
    "    metrics_scores = {k: {\"recall\": [], \"precision\": []} for k in k_values}\n",
    "\n",
    "    for user_id in user_ids:\n",
    "        # Get the movies watched by the user\n",
    "        user_ratings = user_movie_matrix_sparse[user_id].toarray().flatten()\n",
    "        relevant_movies = np.where(user_ratings > 0)[0].tolist()\n",
    "        \n",
    "        # Get the movies recommended to the user\n",
    "        recommended_movies = (\n",
    "            [recommendations[user_id]]\n",
    "            if isinstance(recommendations[user_id], int)\n",
    "            else [movie[0] for movie in recommendations[user_id]]\n",
    "        )\n",
    "        \n",
    "        # Calculate Recall@K and Precision@K\n",
    "        for k in k_values:\n",
    "            recall = recall_at_k(recommended_movies, relevant_movies, k)\n",
    "            precision = precision_at_k(recommended_movies, relevant_movies, k)\n",
    "            metrics_scores[k][\"recall\"].append(recall)\n",
    "            metrics_scores[k][\"precision\"].append(precision)\n",
    "    \n",
    "    # Calculate the average Recall and Precision for each K\n",
    "    mean_metrics_scores = {\n",
    "        k: {\n",
    "            \"recall\": np.mean(metrics_scores[k][\"recall\"]),\n",
    "            \"precision\": np.mean(metrics_scores[k][\"precision\"])\n",
    "        }\n",
    "        for k in k_values\n",
    "    }\n",
    "    return mean_metrics_scores"
   ]
  },
  {
   "cell_type": "markdown",
   "metadata": {},
   "source": [
    "# Calculate Metrics for Recommendations\n",
    "Calculate recall and precision for the recommendations generated for a sample of users."
   ]
  },
  {
   "cell_type": "code",
   "execution_count": null,
   "metadata": {},
   "outputs": [],
   "source": [
    "# Calculate Metrics for Recommendations\n",
    "\n",
    "# Define user IDs and K values for evaluation\n",
    "user_ids = ratings['userId'].unique()[:100]  # Sample of 100 users\n",
    "k_values = [1, 5, 10, 20]\n",
    "\n",
    "# Generate recommendations for the sample users\n",
    "recommendations = {user_id: recommend_movies(user_id, model_knn, user_movie_matrix_sparse, movies, max(k_values)) for user_id in user_ids}\n",
    "\n",
    "# Calculate metrics\n",
    "metrics_scores = calculate_metrics_at_k_100_users(user_ids, user_movie_matrix_sparse, recommendations, k_values)\n",
    "\n",
    "# Display metrics\n",
    "metrics_scores"
   ]
  },
  {
   "cell_type": "markdown",
   "metadata": {},
   "source": [
    "# Plot Metrics\n",
    "Plot the recall@k and precision@k metrics using matplotlib."
   ]
  },
  {
   "cell_type": "code",
   "execution_count": null,
   "metadata": {},
   "outputs": [],
   "source": [
    "# Plot Metrics\n",
    "\n",
    "def plot_metrics_at_k(metrics_scores):\n",
    "    k_values = list(metrics_scores.keys())\n",
    "    recall_scores = [metrics_scores[k][\"recall\"] for k in k_values]\n",
    "    precision_scores = [metrics_scores[k][\"precision\"] for k in k_values]\n",
    "\n",
    "    plt.figure(figsize=(10, 6))\n",
    "\n",
    "    # Recall@K plot\n",
    "    plt.plot(k_values, recall_scores, marker='o', linestyle='-', color='g', label='Recall@K')\n",
    "\n",
    "    # Precision@K plot\n",
    "    plt.plot(k_values, precision_scores, marker='o', linestyle='--', color='b', label='Precision@K')\n",
    "\n",
    "    plt.title('Recall@K and Precision@K Plot')\n",
    "    plt.xlabel('K Values')\n",
    "    plt.ylabel('Score')\n",
    "    plt.grid(alpha=0.5)\n",
    "    plt.legend()\n",
    "    plt.xticks(k_values)\n",
    "    plt.show()\n",
    "\n",
    "# Plot the metrics\n",
    "plot_metrics_at_k(metrics_scores)"
   ]
  }
 ],
 "metadata": {
  "kernelspec": {
   "display_name": "Python 3",
   "language": "python",
   "name": "python3"
  },
  "language_info": {
   "name": "python",
   "version": "3.11.9"
  }
 },
 "nbformat": 4,
 "nbformat_minor": 2
}
