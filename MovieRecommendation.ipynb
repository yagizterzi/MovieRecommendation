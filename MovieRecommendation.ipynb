{
 "cells": [
  {
   "cell_type": "markdown",
   "metadata": {},
   "source": [
    "# Check and Install Required Packages\n",
    "Ensure all required packages are installed, including ipykernel."
   ]
  },
  {
   "cell_type": "code",
   "execution_count": null,
   "metadata": {},
   "outputs": [],
   "source": [
    "# Ensure ipykernel and other required packages are installed\n",
    "import sys\n",
    "import subprocess\n",
    "import pkg_resources\n",
    "\n",
    "required = {'ipykernel', 'pandas', 'numpy', 'matplotlib', 'scipy', 'scikit-learn'}\n",
    "installed = {pkg.key for pkg in pkg_resources.working_set}\n",
    "missing = required - installed\n",
    "\n",
    "if missing:\n",
    "    print(f'Installing missing packages: {missing}')\n",
    "    subprocess.check_call([sys.executable, '-m', 'pip', 'install', *missing])"
   ]
  },
  {
   "cell_type": "markdown",
   "metadata": {},
   "source": [
    "# Import Required Libraries\n",
    "Import necessary libraries such as pandas, numpy, matplotlib, and sklearn."
   ]
  },
  {
   "cell_type": "code",
   "execution_count": null,
   "metadata": {},
   "outputs": [],
   "source": [
    "# Import Required Libraries\n",
    "import pandas as pd\n",
    "import numpy as np\n",
    "import matplotlib.pyplot as plt\n",
    "from scipy.sparse import csr_matrix\n",
    "from sklearn.neighbors import NearestNeighbors"
   ]
  },
  {
   "cell_type": "markdown",
   "metadata": {},
   "source": [
    "# Load Dataset\n",
    "Load the ratings and movies datasets using pandas."
   ]
  },
  {
   "cell_type": "code",
   "execution_count": null,
   "metadata": {},
   "outputs": [],
   "source": [
    "# Load Dataset\n",
    "ratings = pd.read_csv(r'path_to_ratings.csv')\n",
    "movies = pd.read_csv(r'path_to_movies.csv')\n",
    "\n",
    "# Display the first few rows of the datasets\n",
    "ratings.head(), movies.head()"
   ]
  },
  {
   "cell_type": "markdown",
   "metadata": {},
   "source": [
    "# Create User-Movie Matrix\n",
    "Create a sparse user-movie matrix using the ratings data."
   ]
  },
  {
   "cell_type": "code",
   "execution_count": null,
   "metadata": {},
   "outputs": [],
   "source": [
    "# Create a sparse user-movie matrix\n",
    "user_movie_matrix_sparse = csr_matrix((ratings['rating'], (ratings['userId'], ratings['movieId'])))\n",
    "\n",
    "# Display the shape of the user-movie matrix\n",
    "user_movie_matrix_sparse.shape"
   ]
  },
  {
   "cell_type": "markdown",
   "metadata": {},
   "source": [
    "# Build Recommendation Model\n",
    "Build a recommendation model using NearestNeighbors from sklearn."
   ]
  },
  {
   "cell_type": "code",
   "execution_count": null,
   "metadata": {},
   "outputs": [],
   "source": [
    "# Build Recommendation Model\n",
    "\n",
    "# Calculate cosine similarity between users using NearestNeighbors for efficiency\n",
    "model_knn = NearestNeighbors(metric='cosine', algorithm='brute')\n",
    "model_knn.fit(user_movie_matrix_sparse)\n",
    "\n",
    "# Function to recommend movies\n",
    "def recommend_movies(user_id, model_knn, user_movie_matrix_sparse, movies, top_n):\n",
    "    print(f'Generating recommendations for user {user_id}...')\n",
    "    # Get the ratings of the target user\n",
    "    user_ratings = user_movie_matrix_sparse[user_id].toarray().flatten()\n",
    "\n",
    "    # Find movies that the target user has not seen (rating is 0)\n",
    "    unseen_movies = (user_ratings == 0).nonzero()[0]\n",
    "\n",
    "    # Get similar users and their similarity scores\n",
    "    distances, indices = model_knn.kneighbors(user_movie_matrix_sparse[user_id], n_neighbors=top_n)\n",
    "    similar_users = pd.Series(distances.flatten(), index=indices.flatten())\n",
    "    similar_users = similar_users[similar_users > 0]\n",
    "\n",
    "    # Calculate the weighted sum of ratings from similar users\n",
    "    weighted_sum = user_movie_matrix_sparse[similar_users.index].T.dot(1 - similar_users.values)\n",
    "\n",
    "    # Calculate the sum of similarity scores\n",
    "    similarity_sum = (1 - similar_users.values).sum()\n",
    "\n",
    "    # Calculate recommendations by dividing weighted sum by similarity sum\n",
    "    with np.errstate(divide='ignore', invalid='ignore'):\n",
    "        recommendations = np.true_divide(weighted_sum, similarity_sum)\n",
    "        recommendations[~np.isfinite(recommendations)] = 0  # set infinities and NaNs to 0\n",
    "\n",
    "    # Filter recommendations to only include unseen movies and sort them\n",
    "    recommendations = pd.Series(recommendations[unseen_movies], index=unseen_movies).sort_values(ascending=False)\n",
    "\n",
    "    # Merge recommendations with movie data to get the release year\n",
    "    recommendations = recommendations.reset_index().rename(columns={'index': 'movieId'}).merge(movies[['movieId', 'title']], on='movieId')\n",
    "\n",
    "    return recommendations.head(top_n)\n",
    "\n",
    "# Example usage\n",
    "target_user = 1  # Example user ID\n",
    "top_n = 10  # Number of recommendations\n",
    "recommended_movies = recommend_movies(target_user, model_knn, user_movie_matrix_sparse, movies, top_n)\n",
    "recommended_movies[['movieId', 'title']]"
   ]
  }
 ],
 "metadata": {
  "kernelspec": {
   "display_name": "Python 3",
   "language": "python",
   "name": "python3"
  },
  "language_info": {
   "name": "python",
   "version": "3.11.9"
  }
 },
 "nbformat": 4,
 "nbformat_minor": 2
}
